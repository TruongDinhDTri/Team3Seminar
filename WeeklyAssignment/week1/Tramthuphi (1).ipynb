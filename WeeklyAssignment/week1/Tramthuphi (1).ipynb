{
  "nbformat": 4,
  "nbformat_minor": 0,
  "metadata": {
    "colab": {
      "name": "Tramthuphi.ipynb",
      "provenance": [],
      "collapsed_sections": []
    },
    "kernelspec": {
      "name": "python3",
      "display_name": "Python 3"
    },
    "language_info": {
      "name": "python"
    }
  },
  "cells": [
    {
      "cell_type": "markdown",
      "metadata": {
        "id": "8iv2hQ-g6AFO"
      },
      "source": [
        "#BOT\n",
        "BOT (Built-Operation-Transfer, có nghĩa: Xây dựng-Vận hành-Chuyển giao) là hình thức Chính phủ kêu gọi các công ty bỏ vốn xây dựng trước (Built) thông qua đấu thầu, sau đó khai thác vận hành một thời gian (Operation) và sau cùng là chuyển giao (Transfer) lại cho nhà nước sở tại.\n",
        "\n",
        "Đường cao tốc xuyên quốc gia được xây dựng theo hình thức BOT. Công ty Đa quốc gia Modern Highway trúng thầu, chia toàn bộ con đường thành n đoạn. Theo tính toán của Công ty sau khi chuyển giao con đường cho chính phủ sở tại quản lý thì lãi thu được ở đoạn đường thứ i là ai, ai có thể dương, âm hoặc bằng 0, tức là với từng đoạn con có thể lãi, lỗ hoặc hòa vốn. Từng nhóm các đoạn đường liên tiếp nhau (gọi tắt là khoảng) được chia cho các công ty con thực hiện. Công ty con ASEAM Highway hiện đang có trụ sở ở nước sở tại được quyền chọn trước khoảng tùy ý (có thể là cả con đường).\n",
        "\n",
        "Dĩ nhiên Ban Giám đốc ASEAM Highway muốn chọn khoảng bắt đầu từ đoạn p đến hết đoạn q mang lại lợi nhuận cao nhất hoặc lỗ ít nhất nếu không có khoảng nào cho lãi.\n",
        "\n",
        "Hãy chỉ ra khoảng cần chọn và lãi thu được. Nếu có nhiều cách chọn thì chỉ ra cách chọn có p nhỏ nhất.\n",
        "\n",
        "Dữ liệu: Vào từ thiết bị nhập chuẩn:\n",
        "\n",
        "Dòng đầu tiên chứa số nguyên n (1 ≤ n ≤ 106), Dòng thứ 2 chứa n số nguyên a1, a2, . . ., an (0 ≤ |ai| ≤ 109, i = 1 ÷ n).\n",
        "\n",
        "Kết quả: Đưa ra thiết bị xuất chuẩn trên một dòng 2 số nguyên p, q và lãi thu được.\n",
        "\n",
        "Ví dụ:\n",
        "\n",
        "Input\n",
        "16\t\n",
        "2 -4 5 -8 4 -1 -1 1 1 1 -2 2 4 -6 9 -4\t\n",
        "Output\n",
        "5 15 12"
      ]
    },
    {
      "cell_type": "markdown",
      "metadata": {
        "id": "xmRcvpMp6Ur-"
      },
      "source": [
        "#Abstraction "
      ]
    },
    {
      "cell_type": "markdown",
      "metadata": {
        "id": "RNlnr3No6Xtc"
      },
      "source": [
        "Đây là bài toán quy hoạch động phổ biến nhất.Tìm dãy con liên tiếp của dãy đã cho trước sao cho dãy con đó có tổng của các phần tử là lớn nhất."
      ]
    },
    {
      "cell_type": "markdown",
      "metadata": {
        "id": "4TzAGWLS6_qL"
      },
      "source": [
        "#Pattern Recognition:Bài toán quy hoạch động"
      ]
    },
    {
      "cell_type": "markdown",
      "metadata": {
        "id": "9Rbap1A47GQv"
      },
      "source": [
        "Đặc điểm nhận dạng kiểu bài toán này:Thông thường rất khó nhận biết được thuật toán quy hoạch động vì không có 1 điều gì cụ thể cho các bài toán như vậy.Tuy nhiên có 2 tính chất nổi bật nhất của quy hoạch động mà ta có thể sử dụng:\n",
        "\n",
        "\n",
        "  +Bài toán chứa các bài toán con gối nhau\n",
        "\n",
        "  +Bài toán có cấu trúc con tối ưu\n",
        "\n",
        "Trong trường hợp của bài toán trên ta sử dụng quy hoạch động"
      ]
    },
    {
      "cell_type": "markdown",
      "metadata": {
        "id": "dYXbG1mJ8opC"
      },
      "source": [
        "#Time Complexcity:Độ phức tạp của bài toán trên là O(N)"
      ]
    },
    {
      "cell_type": "markdown",
      "metadata": {
        "id": "D3SGT73M80vw"
      },
      "source": [
        "#Algorithm\n",
        "x = int(input())\n",
        "\n",
        "\n",
        "count = [1]*x\n",
        "\n",
        "res = [0]*x\n",
        "\n",
        "arr = list(map(int, input().split()))\n",
        "\n",
        "ans = arr[0]\n",
        "\n",
        "res[0] = arr[0]\n",
        "\n",
        "for i in range(1, x):\n",
        "\n",
        "       res[i] = arr[i]\n",
        "       count[i] = 1\n",
        "       if res[i-1] >= 0:\n",
        "           res[i] += res[i-1]\n",
        "           count[i] += count[i-1];\n",
        "       ans = max(ans, res[i])\n",
        "\n",
        "a = 0\n",
        "\n",
        "b = 0\n",
        "\n",
        "for i in range(0, x):\n",
        "\n",
        "       if res[i] == ans:\n",
        "           a = i\n",
        "           b = count[i]\n",
        "           break\n",
        "\n",
        "  print(a+2-b, a+1, ans)"
      ]
    }
  ]
}