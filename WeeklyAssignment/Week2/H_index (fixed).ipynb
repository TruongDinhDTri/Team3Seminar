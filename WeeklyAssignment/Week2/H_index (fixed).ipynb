{
  "nbformat": 4,
  "nbformat_minor": 0,
  "metadata": {
    "colab": {
      "name": "H_index.ipynb",
      "provenance": [],
      "collapsed_sections": []
    },
    "kernelspec": {
      "name": "python3",
      "display_name": "Python 3"
    },
    "language_info": {
      "name": "python"
    }
  },
  "cells": [
    {
      "cell_type": "markdown",
      "metadata": {
        "id": "n28dqAzkAZEd"
      },
      "source": [
        "#H_index"
      ]
    },
    {
      "cell_type": "markdown",
      "metadata": {
        "id": "gJzNSmZWAcOj"
      },
      "source": [
        "Làm thế nào để đánh giá sự thành công của một nhà khoa học? Dựa vào số bài báo được công bố hay dựa vào số lần một bài báo được trích dẫn tới ở công trình của những người khác? Cả hai tham số đó đều quan trọng.\n",
        "\n",
        "Một bài báo có điểm số trích dẫn là c nếu nó được trích dẫn tới c lần trong các công trình của những nhà khoa học khác. Một trong số các cách đánh giá sự thành công của một nhà khoa học là tính chỉ số ảnh hưởng H_Index dựa trên sự kết hợp giữa số lượng bài báo và chỉ số trích dẫn của các bài báo đó.\n",
        "\n",
        "Chỉ số H_Indexcủa một nhà khoa học bằng k lớn nhất nếu người đó có k bài báo, mỗi bài có điểm số trích dẫn không nhỏ hơn k. Ví dụ, một người có 10 bài báo, mỗi bài báo được trích dẫn không dưới 10 lần thì H_Index của người đó ít nhất là bằng 10.\n",
        "\n",
        "Một người có n bài báo, bài báo thứ i có điểm trích dẫn là ci, i = 1 ÷ n. Hãy xác định H_Index của người đó.\n",
        "\n",
        "Dữ liệu: Vào từ thiết bị nhập chuẩn:\n",
        "\n",
        "Dòng đầu tiên chứa một số nguyên n (1 ≤ n ≤ 5×10^5),\n",
        "Dòng thứ 2 chứa n số nguyên c1, c2, . . ., cn (0 ≤ ci ≤ 10^6, i = 1 ÷ n).\n",
        "Kết quả: Đưa ra thiết bị xuất chuẩn một số nguyên – H_Index tìm được.\n",
        "\n",
        "Ví dụ:\n",
        "INPUT\n",
        "\n",
        "5\n",
        "\n",
        "8 5 3 4 10\n",
        "\n",
        "OUTPUT\n",
        "\n",
        "4"
      ]
    },
    {
      "cell_type": "markdown",
      "metadata": {
        "id": "5vnp_g3GBSfd"
      },
      "source": [
        ""
      ]
    },
    {
      "cell_type": "markdown",
      "metadata": {
        "id": "A3vyov_kBSif"
      },
      "source": [
        "#Abstraction"
      ]
    },
    {
      "cell_type": "markdown",
      "metadata": {
        "id": "2mlc3948BUFL"
      },
      "source": [
        "Cho 1 mảng A gồm N phần tử.Đi tìm 1 số X lớn nhất,sao cho số lượng các phần tử trong mảng có giá trị lớn hơn hoặc bằng X đúng bằng X \n",
        "Vd:\n",
        "\n",
        "Input 5 \n",
        "\n",
        "8 5 3 4 10 \n",
        "\n",
        "OUTPUT \n",
        "4\n",
        "\n",
        "-->X=4 do có 4 số có giá trị lớn hơn hoặc bằng 4 ở trong mảng trên "
      ]
    },
    {
      "cell_type": "markdown",
      "metadata": {
        "id": "WOOuUSxdDTqK"
      },
      "source": [
        "#Pattern Recognition \n",
        "+Đây là dạng bài toán quy hoạch động \n",
        "\n",
        "+Đặc điểm nhận dạng bài toán trên\n",
        "\n",
        "      +Bài toán có cấu trúc con tối ưu\n",
        "+Sắp xếp mảng đầu vào n giảm dần ,sau đó cứ mỗi lần xét đến vị trí i ta cứ so sánh giá trị của vị trí hiện tại ta đang xét và số lượng của phần tử trong mảng hiên tại đang xét"
      ]
    },
    {
      "cell_type": "markdown",
      "metadata": {
        "id": "8ksbWlLFIdRL"
      },
      "source": [
        "#Algorithm designed:\n",
        "\n",
        "n=int(input())\n",
        "\n",
        "array=[int (arr) for arr in \n",
        "intput().split()]\n",
        "\n",
        "def H_in(array,n):\n",
        "\n",
        "      b=sorted(array,reverse=True)\n",
        "      dem=0\n",
        "      i=0\n",
        "      while i<=len(b):\n",
        "          if b[i]>=i:\n",
        "              dem+=1\n",
        "              i+=1\n",
        "          else:\n",
        "             continue\n",
        "  print(dem)"
      ]
    }
  ]
}