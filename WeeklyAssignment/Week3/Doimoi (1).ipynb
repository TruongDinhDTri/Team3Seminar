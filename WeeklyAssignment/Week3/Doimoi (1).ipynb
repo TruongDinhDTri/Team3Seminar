{
  "nbformat": 4,
  "nbformat_minor": 0,
  "metadata": {
    "colab": {
      "name": "Doimoi.ipynb",
      "provenance": [],
      "collapsed_sections": []
    },
    "kernelspec": {
      "name": "python3",
      "display_name": "Python 3"
    },
    "language_info": {
      "name": "python"
    }
  },
  "cells": [
    {
      "cell_type": "code",
      "metadata": {
        "colab": {
          "base_uri": "https://localhost:8080/"
        },
        "id": "gAP_pC-Yoxkn",
        "outputId": "3bad9ecf-132c-420a-b642-50d9f083389b"
      },
      "source": [
        "a,k,b,m,n=[int (i) for i in input().split()]\n",
        "day=int(n//(a+b))\n",
        "tree=int(  a*(day-(day//k))   +   b*(day-(day//m))  )\n",
        "while tree<n:\n",
        "  day=day+1\n",
        "  if  day%k ==0 :    \n",
        "      tree=tree+3      #Do 2 đội sẽ không cùng nghỉ trong 1 ngày \n",
        "      continue\n",
        "  else :\n",
        "      tree =tree +2    #Ngày đó là ngày đội a làm \n",
        "      if day%m ==0 :  #Nhưng chưa chắc ngày đội a làm là ngày đội b sẽ nghĩ\n",
        "          continue     #Nếu ngày đó đội b nghĩ thì sẽ chỉ có đúng đội a làm \n",
        "      else :             #Nếu ngày đó đội b cũng không nghĩ \n",
        "         tree=tree +3 \n",
        "         continue \n",
        "print(\"Số ngày cần thiết để chặt hết cây :  \",day)\n"
      ],
      "execution_count": 4,
      "outputs": [
        {
          "output_type": "stream",
          "text": [
            "2 4 3 3 25 \n",
            "Số ngày cần thiết để chặt hết cây :   7\n"
          ],
          "name": "stdout"
        }
      ]
    }
  ]
}