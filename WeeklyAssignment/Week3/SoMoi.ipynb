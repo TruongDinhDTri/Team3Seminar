{
  "nbformat": 4,
  "nbformat_minor": 0,
  "metadata": {
    "colab": {
      "name": "SoMoi.ipynb",
      "provenance": []
    },
    "kernelspec": {
      "name": "python3",
      "display_name": "Python 3"
    },
    "language_info": {
      "name": "python"
    }
  },
  "cells": [
    {
      "cell_type": "code",
      "metadata": {
        "id": "CqH3n7fCYvLR"
      },
      "source": [
        "import math\n",
        "n = int(input());\n",
        "arr1=list(map(int, str(n)))\n",
        "total = 0\n",
        "sum = 0\n",
        "for i in range(0,len(arr1)):\n",
        "    sum+=arr1[i]\n",
        "\n",
        "mod = sum%3\n",
        "mod = 3 - mod\n",
        "\n",
        "done = False\n",
        "\n",
        "for i in range(0, len(arr1)):\n",
        "    if arr1[i] + mod > 9:\n",
        "        continue\n",
        "    arr1[i]+=mod\n",
        "    while arr1[i] + 3 <= 9:\n",
        "        arr1[i] +=3\n",
        "    done = True\n",
        "    break\n",
        "\n",
        "if done == True:\n",
        "    print(*arr1, sep=\"\")\n",
        "else:\n",
        "    sum -= 1\n",
        "    arr1[-1]-=1\n",
        "    while sum%3!=0:\n",
        "        sum-=1\n",
        "        arr1[-1]-=1\n",
        "    print(*arr1, sep=\"\")"
      ],
      "execution_count": null,
      "outputs": []
    }
  ]
}