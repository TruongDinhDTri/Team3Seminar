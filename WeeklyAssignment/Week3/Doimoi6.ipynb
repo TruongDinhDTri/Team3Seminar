{
  "nbformat": 4,
  "nbformat_minor": 0,
  "metadata": {
    "colab": {
      "name": "Doimoi6.ipynb",
      "provenance": [],
      "collapsed_sections": []
    },
    "kernelspec": {
      "name": "python3",
      "display_name": "Python 3"
    },
    "language_info": {
      "name": "python"
    }
  },
  "cells": [
    {
      "cell_type": "code",
      "metadata": {
        "colab": {
          "base_uri": "https://localhost:8080/"
        },
        "id": "oC_u7TFyqY3u",
        "outputId": "3d462f94-9012-4b3e-af2a-afc7f17e2fd3"
      },
      "source": [
        "a,k,b,m,n=[int (i) for i in input().split()]\n",
        "day=n//(a+b)\n",
        "tree=day*(a+b)-a*(day//k)-b*(day//m)\n",
        "temp=n-tree\n",
        "while temp >= (a+b):\n",
        "  day=day+ (temp//(a+b))\n",
        "  tree=day*(a+b)-a*(day//k)-b*(day//m)\n",
        "  temp=n-tree\n",
        "while tree < n:\n",
        "  day=day+1\n",
        "  if day % m==0 and day % k==0: \n",
        "    tree+=0\n",
        "  elif (day % m==0): \n",
        "    tree+=a\n",
        "  elif (day % k==0): \n",
        "    tree+=b\n",
        "  else:                 \n",
        "    tree=tree+a+b\n",
        "print(day)"
      ],
      "execution_count": 2,
      "outputs": [
        {
          "output_type": "stream",
          "text": [
            "4 5 6 7 35\n",
            "4\n"
          ],
          "name": "stdout"
        }
      ]
    }
  ]
}